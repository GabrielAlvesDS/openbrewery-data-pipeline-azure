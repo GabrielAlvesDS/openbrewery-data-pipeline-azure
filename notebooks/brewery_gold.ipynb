{
 "cells": [
  {
   "cell_type": "markdown",
   "metadata": {
    "application/vnd.databricks.v1+cell": {
     "cellMetadata": {
      "byteLimit": 2048000,
      "rowLimit": 10000
     },
     "inputWidgets": {},
     "nuid": "f5203639-df3c-4d8e-8900-75a73977f336",
     "showTitle": false,
     "tableResultSettingsMap": {},
     "title": ""
    }
   },
   "source": [
    "\n",
    "## Informações Gerais\n",
    "| Informações     | Detalhes                         |\n",
    "|-----------------|----------------------------------|\n",
    "|Origem           | silver.brewery                   |\n",
    "|Nome da Tabela   | gold.breweries_by_city_type      |\n",
    "|Nome da Tabela   | gold.breweries_by_type           |\n",
    "|Nome da Tabela   | gold.breweries_by_state_city     |\n",
    "|Nome da Tabela   | gold.breweries_by_country_state  |\n",
    "|Nome da Tabela   | gold.breweries_by_city           |\n",
    "\n",
    "## Histórico de Atualizações\n",
    "| Data       | Desenvolvido por | Motivo               |\n",
    "|:----------:|------------------|----------------------|\n",
    "|19/04/2024  | Gabriel Alves     | Criação do notebook  |\n"
   ]
  },
  {
   "cell_type": "code",
   "execution_count": 0,
   "metadata": {
    "application/vnd.databricks.v1+cell": {
     "cellMetadata": {
      "byteLimit": 2048000,
      "rowLimit": 10000
     },
     "inputWidgets": {},
     "nuid": "053211bb-e374-495d-ac21-a33978cecb53",
     "showTitle": false,
     "tableResultSettingsMap": {},
     "title": ""
    }
   },
   "outputs": [],
   "source": [
    "from pyspark.sql.functions import *\n",
    "import datetime"
   ]
  },
  {
   "cell_type": "code",
   "execution_count": 0,
   "metadata": {
    "application/vnd.databricks.v1+cell": {
     "cellMetadata": {
      "byteLimit": 2048000,
      "rowLimit": 10000
     },
     "inputWidgets": {},
     "nuid": "540738a2-2138-4331-9155-e632ce3ca116",
     "showTitle": false,
     "tableResultSettingsMap": {},
     "title": ""
    }
   },
   "outputs": [],
   "source": [
    "# Função para salvar DataFrames como tabelas Delta\n",
    "def save_table_as_delta(df, table_name, path):\n",
    "    df.write \\\n",
    "        .format(\"delta\") \\\n",
    "        .mode(\"overwrite\") \\\n",
    "        .option(\"overwriteSchema\", \"true\") \\\n",
    "        .option(\"path\", path) \\\n",
    "        .saveAsTable(f'{schema_gold}.{table_name}')"
   ]
  },
  {
   "cell_type": "code",
   "execution_count": 0,
   "metadata": {
    "application/vnd.databricks.v1+cell": {
     "cellMetadata": {
      "byteLimit": 2048000,
      "rowLimit": 10000
     },
     "inputWidgets": {},
     "nuid": "4f5f2d87-d077-4274-a69f-98254dea4bca",
     "showTitle": false,
     "tableResultSettingsMap": {},
     "title": ""
    }
   },
   "outputs": [],
   "source": [
    "# Definição de variáveis de configuração\n",
    "storage_account    = \"stbrewerydatalake\"       # sua Storage Account\n",
    "container_name     = \"brewery-project\"         # container ADLS Gen2\n",
    "gold_container     = \"3.gold\"                  # pasta da camada Gold\n",
    "\n",
    "schema_silver      = \"silver\"                  # nome do banco de dados no metastore para a Silver\n",
    "table_silver       = \"brewery\"                 # nome da tabela Delta da camada Silver\n",
    "schema_gold        = \"gold\"                    # nome do banco de dados no metastore para a Gold\n",
    "\n",
    "# Caminho da camada Gold\n",
    "output_path = f\"abfss://{container_name}@{storage_account}.dfs.core.windows.net/{gold_container}/\""
   ]
  },
  {
   "cell_type": "code",
   "execution_count": 0,
   "metadata": {
    "application/vnd.databricks.v1+cell": {
     "cellMetadata": {
      "byteLimit": 2048000,
      "rowLimit": 10000
     },
     "inputWidgets": {},
     "nuid": "73e68434-dfd3-4bf4-8074-0e2268f898cf",
     "showTitle": false,
     "tableResultSettingsMap": {},
     "title": ""
    }
   },
   "outputs": [],
   "source": [
    "# Criar database Gold se não existir\n",
    "spark.sql(f\"CREATE DATABASE IF NOT EXISTS {schema_gold}\")\n",
    "\n",
    "# 1. Breweries por tipo e cidade\n",
    "df_brew_by_city_type = spark.sql(f\"\"\"\n",
    "    SELECT\n",
    "        brewery_type,\n",
    "        city,\n",
    "        COUNT(*) AS qtd_breweries\n",
    "    FROM {schema_silver}.{table_silver}\n",
    "    GROUP BY brewery_type, city\n",
    "    ORDER BY qtd_breweries DESC\n",
    "\"\"\")\n",
    "save_table_as_delta(df_brew_by_city_type, \"gold_breweries_by_city_type\", f\"{output_path}breweries_by_city_type\")\n",
    "\n",
    "# 2. Breweries por tipo\n",
    "df_brew_by_type = spark.sql(f\"\"\"\n",
    "    SELECT\n",
    "        brewery_type,\n",
    "        COUNT(*) AS qtd_breweries\n",
    "    FROM {schema_silver}.{table_silver}\n",
    "    GROUP BY brewery_type\n",
    "    ORDER BY qtd_breweries DESC\n",
    "\"\"\")\n",
    "save_table_as_delta(df_brew_by_type, \"gold_breweries_by_type\", f\"{output_path}breweries_by_type\")\n",
    "\n",
    "# 3. Breweries por estado e cidade\n",
    "df_brew_by_state_city = spark.sql(f\"\"\"\n",
    "    SELECT\n",
    "        state,\n",
    "        city,\n",
    "        COUNT(*) AS qtd_breweries\n",
    "    FROM {schema_silver}.{table_silver}\n",
    "    GROUP BY state, city\n",
    "    ORDER BY state, qtd_breweries DESC\n",
    "\"\"\")\n",
    "save_table_as_delta(df_brew_by_state_city, \"gold_breweries_by_state_city\", f\"{output_path}breweries_by_state_city\")\n",
    "\n",
    "# 4. Breweries por país e estado\n",
    "df_brew_by_country_state = spark.sql(f\"\"\"\n",
    "    SELECT\n",
    "        country,\n",
    "        state,\n",
    "        COUNT(*) AS qtd_breweries\n",
    "    FROM {schema_silver}.{table_silver}\n",
    "    GROUP BY country, state\n",
    "    ORDER BY country, qtd_breweries DESC\n",
    "\"\"\")\n",
    "save_table_as_delta(df_brew_by_country_state, \"gold_breweries_by_country_state\", f\"{output_path}breweries_by_country_state\")\n",
    "\n",
    "# 5. Breweries por cidade\n",
    "df_brew_by_city = spark.sql(f\"\"\"\n",
    "    SELECT\n",
    "        city,\n",
    "        COUNT(*) AS qtd_breweries\n",
    "    FROM {schema_silver}.{table_silver}\n",
    "    GROUP BY city\n",
    "    ORDER BY qtd_breweries DESC\n",
    "\"\"\")\n",
    "save_table_as_delta(df_brew_by_city, \"gold_breweries_by_city\", f\"{output_path}breweries_by_city\")\n"
   ]
  },
  {
   "cell_type": "code",
   "execution_count": 0,
   "metadata": {
    "application/vnd.databricks.v1+cell": {
     "cellMetadata": {
      "byteLimit": 2048000,
      "rowLimit": 10000
     },
     "inputWidgets": {},
     "nuid": "9d35b0b3-ace6-4903-befb-6f3775984db6",
     "showTitle": false,
     "tableResultSettingsMap": {},
     "title": ""
    }
   },
   "outputs": [],
   "source": [
    "# Após salvar as tabelas Gold\n",
    "tables_gold = [\n",
    "    \"gold_breweries_by_city_type\",\n",
    "    \"gold_breweries_by_type\",\n",
    "    \"gold_breweries_by_state_city\",\n",
    "    \"gold_breweries_by_country_state\",\n",
    "    \"gold_breweries_by_city\"\n",
    "]\n",
    "\n",
    "# Otimiza todas as tabelas Gold\n",
    "for table in tables_gold:\n",
    "    spark.sql(f\"OPTIMIZE {schema_gold}.{table}\")"
   ]
  }
 ],
 "metadata": {
  "application/vnd.databricks.v1+notebook": {
   "computePreferences": null,
   "dashboards": [],
   "environmentMetadata": {
    "base_environment": "",
    "environment_version": "2"
   },
   "inputWidgetPreferences": null,
   "language": "python",
   "notebookMetadata": {
    "mostRecentlyExecutedCommandWithImplicitDF": {
     "commandId": 8047373081937708,
     "dataframes": [
      "_sqldf"
     ]
    },
    "pythonIndentUnit": 4
   },
   "notebookName": "brewery_gold",
   "widgets": {}
  },
  "language_info": {
   "name": "python"
  }
 },
 "nbformat": 4,
 "nbformat_minor": 0
}