{
 "cells": [
  {
   "cell_type": "markdown",
   "metadata": {
    "application/vnd.databricks.v1+cell": {
     "cellMetadata": {},
     "inputWidgets": {},
     "nuid": "9a2714a9-a101-43eb-b9c5-8e9a66768995",
     "showTitle": false,
     "tableResultSettingsMap": {},
     "title": ""
    }
   },
   "source": [
    "\n",
    "## Informações Gerais\n",
    "| Informações |  Detalhes  |\n",
    "|-------------|------------|\n",
    "|Origem | https://stbrewerydatalake.blob.core.windows.net/brewery-project/0.landing_zone/brewery_raw |\n",
    "|Nome Tabela  | bronze.brewery |\n",
    "\n",
    "## Histórico de Atualizações\n",
    "| Data | Desenvolvido por | Motivo |\n",
    "|:----:|------------------|--------|\n",
    "|19/04/2024 | Gabriel Alves | Criação do notebook |\n"
   ]
  },
  {
   "cell_type": "code",
   "execution_count": 0,
   "metadata": {
    "application/vnd.databricks.v1+cell": {
     "cellMetadata": {
      "byteLimit": 2048000,
      "rowLimit": 10000
     },
     "inputWidgets": {},
     "nuid": "a8b95d5b-0090-470f-a56f-4d23727ea0b5",
     "showTitle": false,
     "tableResultSettingsMap": {},
     "title": ""
    }
   },
   "outputs": [],
   "source": [
    "import datetime\n",
    "from pyspark.sql.functions import *\n",
    "from delta.tables import DeltaTable"
   ]
  },
  {
   "cell_type": "code",
   "execution_count": 0,
   "metadata": {
    "application/vnd.databricks.v1+cell": {
     "cellMetadata": {
      "byteLimit": 2048000,
      "rowLimit": 10000
     },
     "inputWidgets": {},
     "nuid": "de909f25-75eb-4cc2-b341-b9c38da4b51a",
     "showTitle": false,
     "tableResultSettingsMap": {},
     "title": ""
    }
   },
   "outputs": [],
   "source": [
    "# Definição de variáveis de configuração\n",
    "storage_account        = \"stbrewerydatalake\"       # sua Storage Account\n",
    "container_name         = \"brewery-project\"         # container ADLS Gen2\n",
    "landing_zone_container = \"0.landing_zone\"         # pasta da camada Bronze\n",
    "bronze_container       = \"1.bronze\"                # pasta final do Bronze em Delta\n",
    "name_file              = \"brewery_raw\"\n",
    "database               = \"bronze\"\n",
    "tabela                 = \"brewery\"\n",
    "\n",
    "# Paths de entrada e saída\n",
    "input_path = f\"abfss://{container_name}@{storage_account}.dfs.core.windows.net/{landing_zone_container}/{name_file}.json\"\n",
    "bronze_delta_path = f\"abfss://{container_name}@{storage_account}.dfs.core.windows.net/{bronze_container}\""
   ]
  },
  {
   "cell_type": "code",
   "execution_count": 0,
   "metadata": {
    "application/vnd.databricks.v1+cell": {
     "cellMetadata": {
      "byteLimit": 2048000,
      "rowLimit": 10000
     },
     "inputWidgets": {},
     "nuid": "bbcbb46f-f237-4f01-b027-d05ee7a24951",
     "showTitle": false,
     "tableResultSettingsMap": {},
     "title": ""
    }
   },
   "outputs": [],
   "source": [
    "# Inclusão de timestamp\n",
    "df_brewery = spark.read.json(input_path)\n",
    "df_brewery = df_brewery.withColumn(\"ingest_timestamp\", current_timestamp())"
   ]
  },
  {
   "cell_type": "code",
   "execution_count": 0,
   "metadata": {
    "application/vnd.databricks.v1+cell": {
     "cellMetadata": {
      "byteLimit": 2048000,
      "rowLimit": 10000
     },
     "inputWidgets": {},
     "nuid": "806bfbc3-5b28-4299-9a03-9b611f9b9a75",
     "showTitle": false,
     "tableResultSettingsMap": {},
     "title": ""
    }
   },
   "outputs": [
    {
     "output_type": "display_data",
     "data": {
      "text/html": [
       "<style scoped>\n",
       "  .table-result-container {\n",
       "    max-height: 300px;\n",
       "    overflow: auto;\n",
       "  }\n",
       "  table, th, td {\n",
       "    border: 1px solid black;\n",
       "    border-collapse: collapse;\n",
       "  }\n",
       "  th, td {\n",
       "    padding: 5px;\n",
       "  }\n",
       "  th {\n",
       "    text-align: left;\n",
       "  }\n",
       "</style><div class='table-result-container'><table class='table-result'><thead style='background-color: white'><tr><th>path</th><th>name</th><th>size</th><th>modificationTime</th></tr></thead><tbody><tr><td>abfss://brewery-project@stbrewerydatalake.dfs.core.windows.net/1.bronze/_delta_log/</td><td>_delta_log/</td><td>0</td><td>1747698138000</td></tr><tr><td>abfss://brewery-project@stbrewerydatalake.dfs.core.windows.net/1.bronze/part-00000-bb46f8cd-0bd1-4317-a7bd-1a8ff11b18a6.c000.snappy.parquet</td><td>part-00000-bb46f8cd-0bd1-4317-a7bd-1a8ff11b18a6.c000.snappy.parquet</td><td>12214</td><td>1747698147000</td></tr></tbody></table></div>"
      ]
     },
     "metadata": {
      "application/vnd.databricks.v1+output": {
       "addedWidgets": {},
       "aggData": [],
       "aggError": "",
       "aggOverflow": false,
       "aggSchema": [],
       "aggSeriesLimitReached": false,
       "aggType": "",
       "arguments": {},
       "columnCustomDisplayInfos": {},
       "data": [
        [
         "abfss://brewery-project@stbrewerydatalake.dfs.core.windows.net/1.bronze/_delta_log/",
         "_delta_log/",
         0,
         1747698138000
        ],
        [
         "abfss://brewery-project@stbrewerydatalake.dfs.core.windows.net/1.bronze/part-00000-bb46f8cd-0bd1-4317-a7bd-1a8ff11b18a6.c000.snappy.parquet",
         "part-00000-bb46f8cd-0bd1-4317-a7bd-1a8ff11b18a6.c000.snappy.parquet",
         12214,
         1747698147000
        ]
       ],
       "datasetInfos": [],
       "dbfsResultPath": null,
       "isJsonSchema": true,
       "metadata": {},
       "overflow": false,
       "plotOptions": {
        "customPlotOptions": {},
        "displayType": "table",
        "pivotAggregation": null,
        "pivotColumns": null,
        "xColumns": null,
        "yColumns": null
       },
       "removedWidgets": [],
       "schema": [
        {
         "metadata": "{}",
         "name": "path",
         "type": "\"string\""
        },
        {
         "metadata": "{}",
         "name": "name",
         "type": "\"string\""
        },
        {
         "metadata": "{}",
         "name": "size",
         "type": "\"long\""
        },
        {
         "metadata": "{}",
         "name": "modificationTime",
         "type": "\"long\""
        }
       ],
       "type": "table"
      }
     },
     "output_type": "display_data"
    }
   ],
   "source": [
    "# Criar o database bronze se não existir\n",
    "spark.sql(f\"CREATE DATABASE IF NOT EXISTS {database}\")\n",
    "\n",
    "# Salvar dados como tabela Delta externa no metastore, gravando arquivos físicos na pasta Bronze\n",
    "df_brewery.write \\\n",
    "        .format('delta') \\\n",
    "        .mode('overwrite') \\\n",
    "        .option('overwriteSchema', 'true') \\\n",
    "        .option('path', bronze_delta_path) \\\n",
    "        .saveAsTable(f'{database}.{tabela}')\n",
    "\n",
    "\n",
    "# (Opcional) Verificação visual do diretório Bronze Delta\n",
    "display(dbutils.fs.ls(bronze_delta_path))"
   ]
  },
  {
   "cell_type": "code",
   "execution_count": 0,
   "metadata": {
    "application/vnd.databricks.v1+cell": {
     "cellMetadata": {},
     "inputWidgets": {},
     "nuid": "4669afb8-92d4-487f-b89a-98bd1ee1b746",
     "showTitle": false,
     "tableResultSettingsMap": {},
     "title": ""
    }
   },
   "outputs": [],
   "source": []
  }
 ],
 "metadata": {
  "application/vnd.databricks.v1+notebook": {
   "computePreferences": null,
   "dashboards": [],
   "environmentMetadata": {
    "base_environment": "",
    "environment_version": "2"
   },
   "inputWidgetPreferences": null,
   "language": "python",
   "notebookMetadata": {
    "mostRecentlyExecutedCommandWithImplicitDF": {
     "commandId": 7646242849266637,
     "dataframes": [
      "_sqldf"
     ]
    },
    "pythonIndentUnit": 4
   },
   "notebookName": "brewery_bronze",
   "widgets": {}
  },
  "language_info": {
   "name": "python"
  }
 },
 "nbformat": 4,
 "nbformat_minor": 0
}