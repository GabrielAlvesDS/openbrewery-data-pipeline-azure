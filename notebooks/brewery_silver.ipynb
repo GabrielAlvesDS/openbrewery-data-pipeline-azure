{
 "cells": [
  {
   "cell_type": "markdown",
   "metadata": {
    "application/vnd.databricks.v1+cell": {
     "cellMetadata": {
      "byteLimit": 2048000,
      "rowLimit": 10000
     },
     "inputWidgets": {},
     "nuid": "c065f06c-14d8-4761-91b6-5f1cbcaaee90",
     "showTitle": false,
     "tableResultSettingsMap": {},
     "title": ""
    }
   },
   "source": [
    "\n",
    "## Informações Gerais\n",
    "| Informações |  Detalhes  |\n",
    "|-------------|------------|\n",
    "|Origem | bronze.brewery |\n",
    "|Nome Tabela  | silver.brewery |\n",
    "\n",
    "## Histórico de Atualizações\n",
    "| Data | Desenvolvido por | Motivo |\n",
    "|:----:|------------------|--------|\n",
    "|19/04/2024 | Gabriel Alves | Criação do notebook |\n"
   ]
  },
  {
   "cell_type": "code",
   "execution_count": 0,
   "metadata": {
    "application/vnd.databricks.v1+cell": {
     "cellMetadata": {
      "byteLimit": 2048000,
      "rowLimit": 10000
     },
     "inputWidgets": {},
     "nuid": "93633d5f-cf55-45fb-a870-9913eb19aafa",
     "showTitle": false,
     "tableResultSettingsMap": {},
     "title": ""
    }
   },
   "outputs": [],
   "source": [
    "from pyspark.sql.functions import *\n",
    "from delta.tables import DeltaTable\n",
    "import datetime"
   ]
  },
  {
   "cell_type": "code",
   "execution_count": 0,
   "metadata": {
    "application/vnd.databricks.v1+cell": {
     "cellMetadata": {
      "byteLimit": 2048000,
      "rowLimit": 10000
     },
     "inputWidgets": {},
     "nuid": "cfdbdc9f-f90b-4f5e-9e0e-36faf38b4c1c",
     "showTitle": false,
     "tableResultSettingsMap": {},
     "title": ""
    }
   },
   "outputs": [],
   "source": [
    "# Função para aplicar comentários à tabela e colunas\n",
    "def adicionaComentariosTabela(schema, table, table_comment, column_comments):\n",
    "    spark.sql(f\"COMMENT ON TABLE {schema}.{table} IS '{table_comment}'\")\n",
    "    for col_name, comment in column_comments.items():\n",
    "        sqlaux = f\"ALTER TABLE {schema}.{table} CHANGE COLUMN {col_name} COMMENT '{comment}'\"\n",
    "        spark.sql(sqlaux)"
   ]
  },
  {
   "cell_type": "code",
   "execution_count": 0,
   "metadata": {
    "application/vnd.databricks.v1+cell": {
     "cellMetadata": {
      "byteLimit": 2048000,
      "rowLimit": 10000
     },
     "inputWidgets": {},
     "nuid": "1ac5059b-625e-4b52-ba85-74d44eefac08",
     "showTitle": false,
     "tableResultSettingsMap": {},
     "title": ""
    }
   },
   "outputs": [],
   "source": [
    "# Definição de variáveis de configuração\n",
    "storage_account    = \"stbrewerydatalake\"       # sua Storage Account no ADLS Gen2\n",
    "container_name     = \"brewery-project\"         # nome do container do projeto no ADLS\n",
    "bronze_container   = \"1.bronze\"                # pasta da camada Bronze (dados brutos em Delta)\n",
    "silver_container   = \"2.silver\"                # pasta da camada Silver (dados tratados)\n",
    "\n",
    "schema_bronze    = \"bronze\"                  # nome do banco de dados no metastore para a Bronze\n",
    "table_bronze       = \"brewery\"                 # nome da tabela Delta da camada Bronze\n",
    "\n",
    "schema_silver    = \"silver\"                  # nome do banco de dados no metastore para a Silver\n",
    "table_silver       = \"brewery\"                 # nome da tabela Delta da camada Silver\n",
    "\n",
    "\n",
    "# Caminho físico da camada Silver (tabela externa)\n",
    "silver_path = f\"abfss://{container_name}@{storage_account}.dfs.core.windows.net/{silver_container}\""
   ]
  },
  {
   "cell_type": "code",
   "execution_count": 0,
   "metadata": {
    "application/vnd.databricks.v1+cell": {
     "cellMetadata": {
      "byteLimit": 2048000,
      "rowLimit": 10000
     },
     "inputWidgets": {},
     "nuid": "73136198-264e-4516-8c1f-2e0c87b44079",
     "showTitle": false,
     "tableResultSettingsMap": {},
     "title": ""
    }
   },
   "outputs": [],
   "source": [
    "# Leitura dos dados da Bronze e transformação\n",
    "df_silver = spark.sql(f\"\"\"\n",
    "    SELECT\n",
    "        name,\n",
    "        brewery_type,\n",
    "        CASE \n",
    "            WHEN address_1 = 'Unnamed Street' THEN address_2  -- Se a coluna address_1 for igual a 'Unnamed Street', considera o valor de address_2 como endereço,\n",
    "            ELSE address_1                                    -- caso contrário, utiliza o valor de address_1.\n",
    "        END AS address,\n",
    "        city,\n",
    "        state,\n",
    "        country\n",
    "    FROM {schema_bronze}.{table_bronze}\n",
    "\"\"\")\n",
    "\n",
    "\n",
    "# Adição de timestamp de ingestão Silver\n",
    "df_silver = df_silver.withColumn(\"silver_timestamp\", current_timestamp())"
   ]
  },
  {
   "cell_type": "code",
   "execution_count": 0,
   "metadata": {
    "application/vnd.databricks.v1+cell": {
     "cellMetadata": {
      "byteLimit": 2048000,
      "rowLimit": 10000
     },
     "inputWidgets": {},
     "nuid": "bef4bd3c-eb8f-4cf5-b147-c206929643af",
     "showTitle": false,
     "tableResultSettingsMap": {},
     "title": ""
    }
   },
   "outputs": [],
   "source": [
    "# Criar database Silver se não existir\n",
    "spark.sql(f\"CREATE DATABASE IF NOT EXISTS {schema_silver}\")\n",
    "\n",
    "# Escrita como tabela Delta externa (Silver)\n",
    "df_silver.write \\\n",
    "    .format(\"delta\") \\\n",
    "    .mode(\"overwrite\") \\\n",
    "    .partitionBy(\"state\") \\\n",
    "    .option(\"overwriteSchema\", \"true\") \\\n",
    "    .option(\"path\", silver_path) \\\n",
    "    .saveAsTable(f\"{schema_silver}.{table_silver}\")"
   ]
  },
  {
   "cell_type": "code",
   "execution_count": 0,
   "metadata": {
    "application/vnd.databricks.v1+cell": {
     "cellMetadata": {
      "byteLimit": 2048000,
      "rowLimit": 10000
     },
     "inputWidgets": {},
     "nuid": "49a9c1a6-ddc1-46aa-925d-c1800bd34ae2",
     "showTitle": false,
     "tableResultSettingsMap": {},
     "title": ""
    }
   },
   "outputs": [],
   "source": [
    "# Comentários na tabela e colunas\n",
    "comentario_tabela = \"Camada Silver contendo dados tratados de cervejarias, com endereço padronizado e informações relevantes para análise exploratória e agregações.\"\n",
    "\n",
    "comentarios_colunas = {\n",
    "    \"name\": \"Nome da cervejaria\",\n",
    "    \"brewery_type\": \"Tipo de estabelecimento da cervejaria\",\n",
    "    \"address\": \"Endereço principal da cervejaria, priorizando valores válidos entre address_1, address_2 e address_3\",\n",
    "    \"city\": \"Cidade onde a cervejaria está localizada\",\n",
    "    \"state\": \"Estado onde a cervejaria está localizada\",\n",
    "    \"country\": \"País onde a cervejaria está localizada\",\n",
    "    \"silver_timestamp\": \"Timestamp de carga na camada Silver\"\n",
    "}\n",
    "\n",
    "adicionaComentariosTabela(\n",
    "    schema_silver,\n",
    "    table_silver,\n",
    "    comentario_tabela,\n",
    "    comentarios_colunas\n",
    ")"
   ]
  },
  {
   "cell_type": "code",
   "execution_count": 0,
   "metadata": {
    "application/vnd.databricks.v1+cell": {
     "cellMetadata": {
      "byteLimit": 2048000,
      "rowLimit": 10000
     },
     "inputWidgets": {},
     "nuid": "0fc998f0-65f9-43b1-8549-8d4db70e5c73",
     "showTitle": false,
     "tableResultSettingsMap": {},
     "title": ""
    }
   },
   "outputs": [
    {
     "output_type": "execute_result",
     "data": {
      "text/plain": [
       "DataFrame[path: string, metrics: struct<numFilesAdded:bigint,numFilesRemoved:bigint,filesAdded:struct<min:bigint,max:bigint,avg:double,totalFiles:bigint,totalSize:bigint>,filesRemoved:struct<min:bigint,max:bigint,avg:double,totalFiles:bigint,totalSize:bigint>,partitionsOptimized:bigint,zOrderStats:struct<strategyName:string,inputCubeFiles:struct<num:bigint,size:bigint>,inputOtherFiles:struct<num:bigint,size:bigint>,inputNumCubes:bigint,mergedFiles:struct<num:bigint,size:bigint>,numOutputCubes:bigint,mergedNumCubes:bigint>,clusteringStats:struct<inputZCubeFiles:struct<numFiles:bigint,size:bigint>,inputOtherFiles:struct<numFiles:bigint,size:bigint>,inputNumZCubes:bigint,mergedFiles:struct<numFiles:bigint,size:bigint>,numOutputZCubes:bigint>,numBins:bigint,numBatches:bigint,totalConsideredFiles:bigint,totalFilesSkipped:bigint,preserveInsertionOrder:boolean,numFilesSkippedToReduceWriteAmplification:bigint,numBytesSkippedToReduceWriteAmplification:bigint,startTimeMs:bigint,endTimeMs:bigint,totalClusterParallelism:bigint,totalScheduledTasks:bigint,autoCompactParallelismStats:struct<maxClusterActiveParallelism:bigint,minClusterActiveParallelism:bigint,maxSessionActiveParallelism:bigint,minSessionActiveParallelism:bigint>,deletionVectorStats:struct<numDeletionVectorsRemoved:bigint,numDeletionVectorRowsRemoved:bigint>,numTableColumns:bigint,numTableColumnsWithStats:bigint,totalTaskExecutionTimeMs:bigint,skippedArchivedFiles:bigint,clusteringMetrics:struct<sizeOfTableInBytesBeforeLazyClustering:bigint,isNewMetadataCreated:boolean,isPOTriggered:boolean,isFull:boolean,approxClusteringQuality:double,approxClusteringQualityPerColumn:array<double>,approxClusteringCoverage:double,numFilesSkippedWithoutStats:bigint,numFilesClassifiedToIntermediateNodes:bigint,sizeOfFilesClassifiedToIntermediateNodesInBytes:bigint,logicalSizeOfFilesClassifiedToIntermediateNodesInBytes:bigint,numFilesClassifiedToLeafNodes:bigint,sizeOfFilesClassifiedToLeafNodesInBytes:bigint,logicalSizeOfFilesClassifiedToLeafNodesInBytes:bigint,numThreadsForClassifier:int,clusterThresholdStrategy:string,minFileSize:bigint,maxFileSize:bigint,nodeMinNumFilesToCompact:bigint,numIdealFiles:bigint,numIdealFilesWithTrimmedStringMaxValue:bigint,numAddedFilesWithSameMinMaxOnClusteringColumns:array<bigint>,numClusteringTasksPlanned:int,numCompactionTasksPlanned:int,numOptimizeBatchesPlanned:int,numLeafNodesExpanded:bigint,numLeafNodesClustered:bigint,numGetFilesForNodeCalls:bigint,numSamplingJobs:bigint,numLeafNodesCompacted:bigint,numIntermediateNodesCompacted:bigint,totalSizeOfDataToCompactInBytes:bigint,totalLogicalSizeOfDataToCompactInBytes:bigint,numIntermediateNodesClustered:bigint,numFilesSkippedAfterExpansion:bigint,totalSizeOfFilesSkippedAfterExpansionInBytes:bigint,totalLogicalSizeOfFilesSkippedAfterExpansionInBytes:bigint,totalSizeOfDataToRewriteInBytes:bigint,totalLogicalSizeOfDataToRewriteInBytes:bigint,timeMetrics:struct<classifierTimeMs:bigint,optimizerTimeMs:bigint,metadataLoadTimeMs:bigint,totalGetFilesForNodeCallsTimeMs:bigint,totalSamplingTimeMs:bigint,metadataCreationTimeMs:bigint>,maxOptimizeBatchesInParallel:bigint,currentIteration:int,maxIterations:int,clusteringStrategy:string>>]"
      ]
     },
     "execution_count": 61,
     "metadata": {},
     "output_type": "execute_result"
    }
   ],
   "source": [
    "# Otimiza a tabela Delta na camada Silver, consolidando pequenos arquivos em arquivos maiores\n",
    "# para melhorar o desempenho de leitura em consultas analíticas\n",
    "spark.sql(f'OPTIMIZE {schema_silver}.{table_silver}')"
   ]
  },
  {
   "cell_type": "code",
   "execution_count": 0,
   "metadata": {
    "application/vnd.databricks.v1+cell": {
     "cellMetadata": {
      "byteLimit": 2048000,
      "rowLimit": 10000
     },
     "inputWidgets": {},
     "nuid": "0719a81e-cdf4-4733-8c99-a4b7626fa6f6",
     "showTitle": false,
     "tableResultSettingsMap": {},
     "title": ""
    }
   },
   "outputs": [
    {
     "output_type": "display_data",
     "data": {
      "text/html": [
       "<style scoped>\n",
       "  .table-result-container {\n",
       "    max-height: 300px;\n",
       "    overflow: auto;\n",
       "  }\n",
       "  table, th, td {\n",
       "    border: 1px solid black;\n",
       "    border-collapse: collapse;\n",
       "  }\n",
       "  th, td {\n",
       "    padding: 5px;\n",
       "  }\n",
       "  th {\n",
       "    text-align: left;\n",
       "  }\n",
       "</style><div class='table-result-container'><table class='table-result'><thead style='background-color: white'><tr><th>path</th><th>name</th><th>size</th><th>modificationTime</th></tr></thead><tbody><tr><td>abfss://brewery-project@stbrewerydatalake.dfs.core.windows.net/2.silver/_delta_log/</td><td>_delta_log/</td><td>0</td><td>1747698376000</td></tr><tr><td>abfss://brewery-project@stbrewerydatalake.dfs.core.windows.net/2.silver/state=Arizona/</td><td>state=Arizona/</td><td>0</td><td>1747698380000</td></tr><tr><td>abfss://brewery-project@stbrewerydatalake.dfs.core.windows.net/2.silver/state=California/</td><td>state=California/</td><td>0</td><td>1747698380000</td></tr><tr><td>abfss://brewery-project@stbrewerydatalake.dfs.core.windows.net/2.silver/state=Colorado/</td><td>state=Colorado/</td><td>0</td><td>1747698381000</td></tr><tr><td>abfss://brewery-project@stbrewerydatalake.dfs.core.windows.net/2.silver/state=Delaware/</td><td>state=Delaware/</td><td>0</td><td>1747698381000</td></tr><tr><td>abfss://brewery-project@stbrewerydatalake.dfs.core.windows.net/2.silver/state=Idaho/</td><td>state=Idaho/</td><td>0</td><td>1747698381000</td></tr><tr><td>abfss://brewery-project@stbrewerydatalake.dfs.core.windows.net/2.silver/state=Illinois/</td><td>state=Illinois/</td><td>0</td><td>1747698380000</td></tr><tr><td>abfss://brewery-project@stbrewerydatalake.dfs.core.windows.net/2.silver/state=Indiana/</td><td>state=Indiana/</td><td>0</td><td>1747698381000</td></tr><tr><td>abfss://brewery-project@stbrewerydatalake.dfs.core.windows.net/2.silver/state=Iowa/</td><td>state=Iowa/</td><td>0</td><td>1747698380000</td></tr><tr><td>abfss://brewery-project@stbrewerydatalake.dfs.core.windows.net/2.silver/state=Laois/</td><td>state=Laois/</td><td>0</td><td>1747698380000</td></tr><tr><td>abfss://brewery-project@stbrewerydatalake.dfs.core.windows.net/2.silver/state=Maryland/</td><td>state=Maryland/</td><td>0</td><td>1747698381000</td></tr><tr><td>abfss://brewery-project@stbrewerydatalake.dfs.core.windows.net/2.silver/state=Massachusetts/</td><td>state=Massachusetts/</td><td>0</td><td>1747698380000</td></tr><tr><td>abfss://brewery-project@stbrewerydatalake.dfs.core.windows.net/2.silver/state=Michigan/</td><td>state=Michigan/</td><td>0</td><td>1747698380000</td></tr><tr><td>abfss://brewery-project@stbrewerydatalake.dfs.core.windows.net/2.silver/state=Minnesota/</td><td>state=Minnesota/</td><td>0</td><td>1747698380000</td></tr><tr><td>abfss://brewery-project@stbrewerydatalake.dfs.core.windows.net/2.silver/state=Mississippi/</td><td>state=Mississippi/</td><td>0</td><td>1747698381000</td></tr><tr><td>abfss://brewery-project@stbrewerydatalake.dfs.core.windows.net/2.silver/state=Nevada/</td><td>state=Nevada/</td><td>0</td><td>1747698381000</td></tr><tr><td>abfss://brewery-project@stbrewerydatalake.dfs.core.windows.net/2.silver/state=New York/</td><td>state=New York/</td><td>0</td><td>1747698380000</td></tr><tr><td>abfss://brewery-project@stbrewerydatalake.dfs.core.windows.net/2.silver/state=North Carolina/</td><td>state=North Carolina/</td><td>0</td><td>1747698380000</td></tr><tr><td>abfss://brewery-project@stbrewerydatalake.dfs.core.windows.net/2.silver/state=Ohio/</td><td>state=Ohio/</td><td>0</td><td>1747698380000</td></tr><tr><td>abfss://brewery-project@stbrewerydatalake.dfs.core.windows.net/2.silver/state=Oklahoma/</td><td>state=Oklahoma/</td><td>0</td><td>1747698380000</td></tr><tr><td>abfss://brewery-project@stbrewerydatalake.dfs.core.windows.net/2.silver/state=Oregon/</td><td>state=Oregon/</td><td>0</td><td>1747698380000</td></tr><tr><td>abfss://brewery-project@stbrewerydatalake.dfs.core.windows.net/2.silver/state=Pennsylvania/</td><td>state=Pennsylvania/</td><td>0</td><td>1747698381000</td></tr><tr><td>abfss://brewery-project@stbrewerydatalake.dfs.core.windows.net/2.silver/state=South Carolina/</td><td>state=South Carolina/</td><td>0</td><td>1747698381000</td></tr><tr><td>abfss://brewery-project@stbrewerydatalake.dfs.core.windows.net/2.silver/state=Texas/</td><td>state=Texas/</td><td>0</td><td>1747698380000</td></tr><tr><td>abfss://brewery-project@stbrewerydatalake.dfs.core.windows.net/2.silver/state=Vermont/</td><td>state=Vermont/</td><td>0</td><td>1747698381000</td></tr><tr><td>abfss://brewery-project@stbrewerydatalake.dfs.core.windows.net/2.silver/state=Virginia/</td><td>state=Virginia/</td><td>0</td><td>1747698381000</td></tr><tr><td>abfss://brewery-project@stbrewerydatalake.dfs.core.windows.net/2.silver/state=Washington/</td><td>state=Washington/</td><td>0</td><td>1747698380000</td></tr><tr><td>abfss://brewery-project@stbrewerydatalake.dfs.core.windows.net/2.silver/state=Wisconsin/</td><td>state=Wisconsin/</td><td>0</td><td>1747698380000</td></tr></tbody></table></div>"
      ]
     },
     "metadata": {
      "application/vnd.databricks.v1+output": {
       "addedWidgets": {},
       "aggData": [],
       "aggError": "",
       "aggOverflow": false,
       "aggSchema": [],
       "aggSeriesLimitReached": false,
       "aggType": "",
       "arguments": {},
       "columnCustomDisplayInfos": {},
       "data": [
        [
         "abfss://brewery-project@stbrewerydatalake.dfs.core.windows.net/2.silver/_delta_log/",
         "_delta_log/",
         0,
         1747698376000
        ],
        [
         "abfss://brewery-project@stbrewerydatalake.dfs.core.windows.net/2.silver/state=Arizona/",
         "state=Arizona/",
         0,
         1747698380000
        ],
        [
         "abfss://brewery-project@stbrewerydatalake.dfs.core.windows.net/2.silver/state=California/",
         "state=California/",
         0,
         1747698380000
        ],
        [
         "abfss://brewery-project@stbrewerydatalake.dfs.core.windows.net/2.silver/state=Colorado/",
         "state=Colorado/",
         0,
         1747698381000
        ],
        [
         "abfss://brewery-project@stbrewerydatalake.dfs.core.windows.net/2.silver/state=Delaware/",
         "state=Delaware/",
         0,
         1747698381000
        ],
        [
         "abfss://brewery-project@stbrewerydatalake.dfs.core.windows.net/2.silver/state=Idaho/",
         "state=Idaho/",
         0,
         1747698381000
        ],
        [
         "abfss://brewery-project@stbrewerydatalake.dfs.core.windows.net/2.silver/state=Illinois/",
         "state=Illinois/",
         0,
         1747698380000
        ],
        [
         "abfss://brewery-project@stbrewerydatalake.dfs.core.windows.net/2.silver/state=Indiana/",
         "state=Indiana/",
         0,
         1747698381000
        ],
        [
         "abfss://brewery-project@stbrewerydatalake.dfs.core.windows.net/2.silver/state=Iowa/",
         "state=Iowa/",
         0,
         1747698380000
        ],
        [
         "abfss://brewery-project@stbrewerydatalake.dfs.core.windows.net/2.silver/state=Laois/",
         "state=Laois/",
         0,
         1747698380000
        ],
        [
         "abfss://brewery-project@stbrewerydatalake.dfs.core.windows.net/2.silver/state=Maryland/",
         "state=Maryland/",
         0,
         1747698381000
        ],
        [
         "abfss://brewery-project@stbrewerydatalake.dfs.core.windows.net/2.silver/state=Massachusetts/",
         "state=Massachusetts/",
         0,
         1747698380000
        ],
        [
         "abfss://brewery-project@stbrewerydatalake.dfs.core.windows.net/2.silver/state=Michigan/",
         "state=Michigan/",
         0,
         1747698380000
        ],
        [
         "abfss://brewery-project@stbrewerydatalake.dfs.core.windows.net/2.silver/state=Minnesota/",
         "state=Minnesota/",
         0,
         1747698380000
        ],
        [
         "abfss://brewery-project@stbrewerydatalake.dfs.core.windows.net/2.silver/state=Mississippi/",
         "state=Mississippi/",
         0,
         1747698381000
        ],
        [
         "abfss://brewery-project@stbrewerydatalake.dfs.core.windows.net/2.silver/state=Nevada/",
         "state=Nevada/",
         0,
         1747698381000
        ],
        [
         "abfss://brewery-project@stbrewerydatalake.dfs.core.windows.net/2.silver/state=New York/",
         "state=New York/",
         0,
         1747698380000
        ],
        [
         "abfss://brewery-project@stbrewerydatalake.dfs.core.windows.net/2.silver/state=North Carolina/",
         "state=North Carolina/",
         0,
         1747698380000
        ],
        [
         "abfss://brewery-project@stbrewerydatalake.dfs.core.windows.net/2.silver/state=Ohio/",
         "state=Ohio/",
         0,
         1747698380000
        ],
        [
         "abfss://brewery-project@stbrewerydatalake.dfs.core.windows.net/2.silver/state=Oklahoma/",
         "state=Oklahoma/",
         0,
         1747698380000
        ],
        [
         "abfss://brewery-project@stbrewerydatalake.dfs.core.windows.net/2.silver/state=Oregon/",
         "state=Oregon/",
         0,
         1747698380000
        ],
        [
         "abfss://brewery-project@stbrewerydatalake.dfs.core.windows.net/2.silver/state=Pennsylvania/",
         "state=Pennsylvania/",
         0,
         1747698381000
        ],
        [
         "abfss://brewery-project@stbrewerydatalake.dfs.core.windows.net/2.silver/state=South Carolina/",
         "state=South Carolina/",
         0,
         1747698381000
        ],
        [
         "abfss://brewery-project@stbrewerydatalake.dfs.core.windows.net/2.silver/state=Texas/",
         "state=Texas/",
         0,
         1747698380000
        ],
        [
         "abfss://brewery-project@stbrewerydatalake.dfs.core.windows.net/2.silver/state=Vermont/",
         "state=Vermont/",
         0,
         1747698381000
        ],
        [
         "abfss://brewery-project@stbrewerydatalake.dfs.core.windows.net/2.silver/state=Virginia/",
         "state=Virginia/",
         0,
         1747698381000
        ],
        [
         "abfss://brewery-project@stbrewerydatalake.dfs.core.windows.net/2.silver/state=Washington/",
         "state=Washington/",
         0,
         1747698380000
        ],
        [
         "abfss://brewery-project@stbrewerydatalake.dfs.core.windows.net/2.silver/state=Wisconsin/",
         "state=Wisconsin/",
         0,
         1747698380000
        ]
       ],
       "datasetInfos": [],
       "dbfsResultPath": null,
       "isJsonSchema": true,
       "metadata": {},
       "overflow": false,
       "plotOptions": {
        "customPlotOptions": {},
        "displayType": "table",
        "pivotAggregation": null,
        "pivotColumns": null,
        "xColumns": null,
        "yColumns": null
       },
       "removedWidgets": [],
       "schema": [
        {
         "metadata": "{}",
         "name": "path",
         "type": "\"string\""
        },
        {
         "metadata": "{}",
         "name": "name",
         "type": "\"string\""
        },
        {
         "metadata": "{}",
         "name": "size",
         "type": "\"long\""
        },
        {
         "metadata": "{}",
         "name": "modificationTime",
         "type": "\"long\""
        }
       ],
       "type": "table"
      }
     },
     "output_type": "display_data"
    }
   ],
   "source": [
    "# Verificação opcional da pasta Silver\n",
    "display(dbutils.fs.ls(silver_path))"
   ]
  }
 ],
 "metadata": {
  "application/vnd.databricks.v1+notebook": {
   "computePreferences": null,
   "dashboards": [],
   "environmentMetadata": {
    "base_environment": "",
    "environment_version": "2"
   },
   "inputWidgetPreferences": null,
   "language": "python",
   "notebookMetadata": {
    "mostRecentlyExecutedCommandWithImplicitDF": {
     "commandId": 6808601616177651,
     "dataframes": [
      "_sqldf"
     ]
    },
    "pythonIndentUnit": 4
   },
   "notebookName": "brewery_silver",
   "widgets": {}
  },
  "language_info": {
   "name": "python"
  }
 },
 "nbformat": 4,
 "nbformat_minor": 0
}